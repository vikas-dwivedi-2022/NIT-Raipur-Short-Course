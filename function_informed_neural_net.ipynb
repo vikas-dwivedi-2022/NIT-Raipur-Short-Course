{
 "cells": [
  {
   "cell_type": "code",
   "execution_count": 1,
   "id": "93f0d4c0",
   "metadata": {},
   "outputs": [
    {
     "name": "stderr",
     "output_type": "stream",
     "text": [
      "2022-06-19 10:02:07.094363: W tensorflow/stream_executor/platform/default/dso_loader.cc:64] Could not load dynamic library 'libcudart.so.11.0'; dlerror: libcudart.so.11.0: cannot open shared object file: No such file or directory\n",
      "2022-06-19 10:02:07.094398: I tensorflow/stream_executor/cuda/cudart_stub.cc:29] Ignore above cudart dlerror if you do not have a GPU set up on your machine.\n"
     ]
    }
   ],
   "source": [
    "import numpy as np\n",
    "import tensorflow as tf\n",
    "import matplotlib.pyplot as plt"
   ]
  },
  {
   "cell_type": "markdown",
   "id": "3f6e2f1d",
   "metadata": {},
   "source": [
    "### Approach-1"
   ]
  },
  {
   "cell_type": "code",
   "execution_count": 2,
   "id": "6e859acf",
   "metadata": {},
   "outputs": [],
   "source": [
    "# X-Data\n",
    "N = 200\n",
    "X = np.random.random(N)"
   ]
  },
  {
   "cell_type": "code",
   "execution_count": 3,
   "id": "7bded9da",
   "metadata": {},
   "outputs": [],
   "source": [
    "# Generation Y-Data\n",
    "sign = (- np.ones((N,)))**np.random.randint(2,size=N)\n",
    "Y = np.sqrt(X) * sign"
   ]
  },
  {
   "cell_type": "code",
   "execution_count": 12,
   "id": "d2c74e96",
   "metadata": {},
   "outputs": [
    {
     "data": {
      "image/png": "[encoded data removed]",
      "text/plain": [
       "<Figure size 720x360 with 1 Axes>"
      ]
     },
     "metadata": {
      "needs_background": "light"
     },
     "output_type": "display_data"
    }
   ],
   "source": [
    "plt.figure(figsize=(10,5))\n",
    "plt.plot(X,Y,'ko')\n",
    "plt.xlabel('x')\n",
    "plt.ylabel('y')\n",
    "plt.title('Data')\n",
    "plt.savefig(\"data.jpeg\")\n",
    "plt.show()"
   ]
  },
  {
   "cell_type": "code",
   "execution_count": 5,
   "id": "fd149ffc",
   "metadata": {},
   "outputs": [
    {
     "name": "stderr",
     "output_type": "stream",
     "text": [
      "2022-06-19 10:02:13.004618: W tensorflow/stream_executor/platform/default/dso_loader.cc:64] Could not load dynamic library 'libcuda.so.1'; dlerror: libcuda.so.1: cannot open shared object file: No such file or directory\n",
      "2022-06-19 10:02:13.004654: W tensorflow/stream_executor/cuda/cuda_driver.cc:269] failed call to cuInit: UNKNOWN ERROR (303)\n",
      "2022-06-19 10:02:13.004675: I tensorflow/stream_executor/cuda/cuda_diagnostics.cc:156] kernel driver does not appear to be running on this host (vikas-Inspiron-3558): /proc/driver/nvidia/version does not exist\n",
      "2022-06-19 10:02:13.004922: I tensorflow/core/platform/cpu_feature_guard.cc:151] This TensorFlow binary is optimized with oneAPI Deep Neural Network Library (oneDNN) to use the following CPU instructions in performance-critical operations:  AVX2 FMA\n",
      "To enable them in other operations, rebuild TensorFlow with the appropriate compiler flags.\n"
     ]
    }
   ],
   "source": [
    "# Neural network\n",
    "act = tf.keras.layers.ReLU()\n",
    "nn_sv = tf.keras.models.Sequential([\n",
    "tf.keras.layers.Dense(10, activation=act, input_shape=(1,)),\n",
    "tf.keras.layers.Dense(10, activation=act),\n",
    "tf.keras.layers.Dense(1,activation='linear')])"
   ]
  },
  {
   "cell_type": "code",
   "execution_count": 6,
   "id": "b4230a2f",
   "metadata": {},
   "outputs": [
    {
     "name": "stdout",
     "output_type": "stream",
     "text": [
      "Epoch 1/50\n",
      "40/40 [==============================] - 0s 2ms/step - loss: 0.5052\n",
      "Epoch 2/50\n",
      "40/40 [==============================] - 0s 3ms/step - loss: 0.4972\n",
      "Epoch 3/50\n",
      "40/40 [==============================] - 0s 2ms/step - loss: 0.4938\n",
      "Epoch 4/50\n",
      "40/40 [==============================] - 0s 2ms/step - loss: 0.4925\n",
      "Epoch 5/50\n",
      "40/40 [==============================] - 0s 2ms/step - loss: 0.4942\n",
      "Epoch 6/50\n",
      "40/40 [==============================] - 0s 2ms/step - loss: 0.4922\n",
      "Epoch 7/50\n",
      "40/40 [==============================] - 0s 2ms/step - loss: 0.4926\n",
      "Epoch 8/50\n",
      "40/40 [==============================] - 0s 3ms/step - loss: 0.4930\n",
      "Epoch 9/50\n",
      "40/40 [==============================] - 0s 2ms/step - loss: 0.4919\n",
      "Epoch 10/50\n",
      "40/40 [==============================] - 0s 2ms/step - loss: 0.4943\n",
      "Epoch 11/50\n",
      "40/40 [==============================] - 0s 2ms/step - loss: 0.4926\n",
      "Epoch 12/50\n",
      "40/40 [==============================] - 0s 3ms/step - loss: 0.4924\n",
      "Epoch 13/50\n",
      "40/40 [==============================] - 0s 3ms/step - loss: 0.4917\n",
      "Epoch 14/50\n",
      "40/40 [==============================] - 0s 2ms/step - loss: 0.4920\n",
      "Epoch 15/50\n",
      "40/40 [==============================] - 0s 2ms/step - loss: 0.4940\n",
      "Epoch 16/50\n",
      "40/40 [==============================] - 0s 2ms/step - loss: 0.4920\n",
      "Epoch 17/50\n",
      "40/40 [==============================] - 0s 2ms/step - loss: 0.4917\n",
      "Epoch 18/50\n",
      "40/40 [==============================] - 0s 3ms/step - loss: 0.4925\n",
      "Epoch 19/50\n",
      "40/40 [==============================] - 0s 3ms/step - loss: 0.4914\n",
      "Epoch 20/50\n",
      "40/40 [==============================] - 0s 3ms/step - loss: 0.4915\n",
      "Epoch 21/50\n",
      "40/40 [==============================] - 0s 3ms/step - loss: 0.4925\n",
      "Epoch 22/50\n",
      "40/40 [==============================] - 0s 2ms/step - loss: 0.4922\n",
      "Epoch 23/50\n",
      "40/40 [==============================] - 0s 2ms/step - loss: 0.4915\n",
      "Epoch 24/50\n",
      "40/40 [==============================] - 0s 2ms/step - loss: 0.4920\n",
      "Epoch 25/50\n",
      "40/40 [==============================] - 0s 3ms/step - loss: 0.4914\n",
      "Epoch 26/50\n",
      "40/40 [==============================] - 0s 2ms/step - loss: 0.4918\n",
      "Epoch 27/50\n",
      "40/40 [==============================] - 0s 2ms/step - loss: 0.4915\n",
      "Epoch 28/50\n",
      "40/40 [==============================] - 0s 2ms/step - loss: 0.4916\n",
      "Epoch 29/50\n",
      "40/40 [==============================] - 0s 2ms/step - loss: 0.4922\n",
      "Epoch 30/50\n",
      "40/40 [==============================] - 0s 3ms/step - loss: 0.4921\n",
      "Epoch 31/50\n",
      "40/40 [==============================] - 0s 2ms/step - loss: 0.4923\n",
      "Epoch 32/50\n",
      "40/40 [==============================] - 0s 2ms/step - loss: 0.4916\n",
      "Epoch 33/50\n",
      "40/40 [==============================] - 0s 2ms/step - loss: 0.4919\n",
      "Epoch 34/50\n",
      "40/40 [==============================] - 0s 2ms/step - loss: 0.4911\n",
      "Epoch 35/50\n",
      "40/40 [==============================] - 0s 2ms/step - loss: 0.4916\n",
      "Epoch 36/50\n",
      "40/40 [==============================] - 0s 2ms/step - loss: 0.4920\n",
      "Epoch 37/50\n",
      "40/40 [==============================] - 0s 2ms/step - loss: 0.4914\n",
      "Epoch 38/50\n",
      "40/40 [==============================] - 0s 2ms/step - loss: 0.4917\n",
      "Epoch 39/50\n",
      "40/40 [==============================] - 0s 2ms/step - loss: 0.4918\n",
      "Epoch 40/50\n",
      "40/40 [==============================] - 0s 2ms/step - loss: 0.4920\n",
      "Epoch 41/50\n",
      "40/40 [==============================] - 0s 2ms/step - loss: 0.4913\n",
      "Epoch 42/50\n",
      "40/40 [==============================] - 0s 2ms/step - loss: 0.4918\n",
      "Epoch 43/50\n",
      "40/40 [==============================] - 0s 2ms/step - loss: 0.4917\n",
      "Epoch 44/50\n",
      "40/40 [==============================] - 0s 2ms/step - loss: 0.4914\n",
      "Epoch 45/50\n",
      "40/40 [==============================] - 0s 2ms/step - loss: 0.4916\n",
      "Epoch 46/50\n",
      "40/40 [==============================] - 0s 2ms/step - loss: 0.4913\n",
      "Epoch 47/50\n",
      "40/40 [==============================] - 0s 2ms/step - loss: 0.4918\n",
      "Epoch 48/50\n",
      "40/40 [==============================] - 0s 2ms/step - loss: 0.4917\n",
      "Epoch 49/50\n",
      "40/40 [==============================] - 0s 2ms/step - loss: 0.4913\n",
      "Epoch 50/50\n",
      "40/40 [==============================] - 0s 2ms/step - loss: 0.4913\n"
     ]
    }
   ],
   "source": [
    "# Loss function\n",
    "loss_sv = tf.keras.losses.MeanSquaredError()\n",
    "optimizer_sv = tf.keras.optimizers.Adam(learning_rate=0.001)\n",
    "nn_sv.compile(optimizer=optimizer_sv, loss=loss_sv)\n",
    "# Training\n",
    "results_sv = nn_sv.fit(X, Y, epochs=50, batch_size= 5, verbose=1)"
   ]
  },
  {
   "cell_type": "code",
   "execution_count": 13,
   "id": "0d7b4bbe",
   "metadata": {},
   "outputs": [
    {
     "data": {
      "image/png": "[encoded data removed]",
      "text/plain": [
       "<Figure size 720x360 with 1 Axes>"
      ]
     },
     "metadata": {
      "needs_background": "light"
     },
     "output_type": "display_data"
    }
   ],
   "source": [
    "# Results\n",
    "plt.figure(figsize=(10,5))\n",
    "plt.plot(X,Y,'.',label='Data points', color=\"black\")\n",
    "plt.plot(X,nn_sv.predict(X),'.',label='Supervised', color=\"red\")\n",
    "plt.xlabel('x')\n",
    "plt.ylabel('y')\n",
    "plt.title('Standard approach')\n",
    "plt.legend()\n",
    "plt.savefig(\"standard.jpeg\")\n",
    "plt.show()"
   ]
  },
  {
   "cell_type": "markdown",
   "id": "ef290b23",
   "metadata": {},
   "source": [
    "### Approach-2"
   ]
  },
  {
   "cell_type": "code",
   "execution_count": 8,
   "id": "639d68fd",
   "metadata": {},
   "outputs": [],
   "source": [
    "# X-Data\n",
    "# X = X , we can directly re-use the X from above, nothing has changed...\n",
    "# Y is evaluated on the fly\n",
    "# Model\n",
    "nn_dp = tf.keras.models.Sequential([\n",
    "tf.keras.layers.Dense(10, activation=act, input_shape=(1,)),\n",
    "tf.keras.layers.Dense(10, activation=act),\n",
    "tf.keras.layers.Dense(1, activation='linear')])"
   ]
  },
  {
   "cell_type": "code",
   "execution_count": 9,
   "id": "82fa5104",
   "metadata": {},
   "outputs": [],
   "source": [
    "#Loss\n",
    "mse = tf.keras.losses.MeanSquaredError()\n",
    "def loss_dp(y_true, y_pred):\n",
    "    return mse(y_true,y_pred**2)\n",
    "optimizer_dp = tf.keras.optimizers.Adam(learning_rate=0.001)\n",
    "nn_dp.compile(optimizer=optimizer_dp, loss=loss_dp)"
   ]
  },
  {
   "cell_type": "code",
   "execution_count": 10,
   "id": "d7be7097",
   "metadata": {},
   "outputs": [
    {
     "name": "stdout",
     "output_type": "stream",
     "text": [
      "Epoch 1/50\n",
      "40/40 [==============================] - 0s 2ms/step - loss: 0.3064\n",
      "Epoch 2/50\n",
      "40/40 [==============================] - 0s 2ms/step - loss: 0.1431\n",
      "Epoch 3/50\n",
      "40/40 [==============================] - 0s 2ms/step - loss: 0.0111\n",
      "Epoch 4/50\n",
      "40/40 [==============================] - 0s 2ms/step - loss: 0.0039\n",
      "Epoch 5/50\n",
      "40/40 [==============================] - 0s 2ms/step - loss: 0.0032\n",
      "Epoch 6/50\n",
      "40/40 [==============================] - 0s 2ms/step - loss: 0.0026\n",
      "Epoch 7/50\n",
      "40/40 [==============================] - 0s 2ms/step - loss: 0.0022\n",
      "Epoch 8/50\n",
      "40/40 [==============================] - 0s 2ms/step - loss: 0.0020\n",
      "Epoch 9/50\n",
      "40/40 [==============================] - 0s 2ms/step - loss: 0.0018\n",
      "Epoch 10/50\n",
      "40/40 [==============================] - 0s 2ms/step - loss: 0.0015\n",
      "Epoch 11/50\n",
      "40/40 [==============================] - 0s 2ms/step - loss: 0.0013\n",
      "Epoch 12/50\n",
      "40/40 [==============================] - 0s 2ms/step - loss: 0.0013\n",
      "Epoch 13/50\n",
      "40/40 [==============================] - 0s 2ms/step - loss: 0.0012\n",
      "Epoch 14/50\n",
      "40/40 [==============================] - 0s 2ms/step - loss: 0.0011\n",
      "Epoch 15/50\n",
      "40/40 [==============================] - 0s 2ms/step - loss: 0.0010\n",
      "Epoch 16/50\n",
      "40/40 [==============================] - 0s 2ms/step - loss: 0.0010\n",
      "Epoch 17/50\n",
      "40/40 [==============================] - 0s 2ms/step - loss: 9.4833e-04\n",
      "Epoch 18/50\n",
      "40/40 [==============================] - 0s 2ms/step - loss: 8.9454e-04\n",
      "Epoch 19/50\n",
      "40/40 [==============================] - 0s 2ms/step - loss: 8.5340e-04\n",
      "Epoch 20/50\n",
      "40/40 [==============================] - 0s 2ms/step - loss: 7.9560e-04\n",
      "Epoch 21/50\n",
      "40/40 [==============================] - 0s 2ms/step - loss: 7.6157e-04\n",
      "Epoch 22/50\n",
      "40/40 [==============================] - 0s 2ms/step - loss: 7.1972e-04\n",
      "Epoch 23/50\n",
      "40/40 [==============================] - 0s 2ms/step - loss: 7.0481e-04\n",
      "Epoch 24/50\n",
      "40/40 [==============================] - 0s 2ms/step - loss: 7.0160e-04\n",
      "Epoch 25/50\n",
      "40/40 [==============================] - 0s 2ms/step - loss: 6.1730e-04\n",
      "Epoch 26/50\n",
      "40/40 [==============================] - 0s 2ms/step - loss: 5.7603e-04\n",
      "Epoch 27/50\n",
      "40/40 [==============================] - 0s 2ms/step - loss: 5.5978e-04\n",
      "Epoch 28/50\n",
      "40/40 [==============================] - 0s 2ms/step - loss: 5.1549e-04\n",
      "Epoch 29/50\n",
      "40/40 [==============================] - 0s 2ms/step - loss: 4.8264e-04\n",
      "Epoch 30/50\n",
      "40/40 [==============================] - 0s 2ms/step - loss: 4.5310e-04\n",
      "Epoch 31/50\n",
      "40/40 [==============================] - 0s 2ms/step - loss: 4.3141e-04\n",
      "Epoch 32/50\n",
      "40/40 [==============================] - 0s 2ms/step - loss: 4.1241e-04\n",
      "Epoch 33/50\n",
      "40/40 [==============================] - 0s 2ms/step - loss: 3.9084e-04\n",
      "Epoch 34/50\n",
      "40/40 [==============================] - 0s 2ms/step - loss: 3.5368e-04\n",
      "Epoch 35/50\n",
      "40/40 [==============================] - 0s 2ms/step - loss: 3.4307e-04\n",
      "Epoch 36/50\n",
      "40/40 [==============================] - 0s 2ms/step - loss: 3.1855e-04\n",
      "Epoch 37/50\n",
      "40/40 [==============================] - 0s 2ms/step - loss: 2.9655e-04\n",
      "Epoch 38/50\n",
      "40/40 [==============================] - 0s 2ms/step - loss: 2.9977e-04\n",
      "Epoch 39/50\n",
      "40/40 [==============================] - 0s 2ms/step - loss: 2.8847e-04\n",
      "Epoch 40/50\n",
      "40/40 [==============================] - 0s 2ms/step - loss: 2.6242e-04\n",
      "Epoch 41/50\n",
      "40/40 [==============================] - 0s 2ms/step - loss: 2.4831e-04\n",
      "Epoch 42/50\n",
      "40/40 [==============================] - 0s 2ms/step - loss: 2.3145e-04\n",
      "Epoch 43/50\n",
      "40/40 [==============================] - 0s 2ms/step - loss: 2.1773e-04\n",
      "Epoch 44/50\n",
      "40/40 [==============================] - 0s 2ms/step - loss: 2.1290e-04\n",
      "Epoch 45/50\n",
      "40/40 [==============================] - 0s 2ms/step - loss: 2.0487e-04\n",
      "Epoch 46/50\n",
      "40/40 [==============================] - 0s 2ms/step - loss: 1.9842e-04\n",
      "Epoch 47/50\n",
      "40/40 [==============================] - 0s 3ms/step - loss: 1.8570e-04\n",
      "Epoch 48/50\n",
      "40/40 [==============================] - 0s 2ms/step - loss: 1.9236e-04\n",
      "Epoch 49/50\n",
      "40/40 [==============================] - 0s 2ms/step - loss: 1.8901e-04\n",
      "Epoch 50/50\n",
      "40/40 [==============================] - 0s 2ms/step - loss: 1.7807e-04\n"
     ]
    }
   ],
   "source": [
    "#Training\n",
    "results_dp = nn_dp.fit(X, X, epochs=50, batch_size=5, verbose=1)"
   ]
  },
  {
   "cell_type": "code",
   "execution_count": 14,
   "id": "d7042472",
   "metadata": {},
   "outputs": [
    {
     "data": {
      "image/png": "[encoded data removed]",
      "text/plain": [
       "<Figure size 720x360 with 1 Axes>"
      ]
     },
     "metadata": {
      "needs_background": "light"
     },
     "output_type": "display_data"
    }
   ],
   "source": [
    "# Results\n",
    "plt.figure(figsize=(10,5))\n",
    "plt.plot(X,Y,'.',label='Datapoints', color=\"black\")\n",
    "plt.plot(X,nn_sv.predict(X),'.',label='Supervised', color=\"red\") # optional for comparison\n",
    "plt.plot(X,nn_dp.predict(X),'.',label='Diff. Phys.', color=\"green\")\n",
    "plt.xlabel('x')\n",
    "plt.ylabel('y')\n",
    "plt.title('Differentiable physics approach')\n",
    "plt.legend()\n",
    "plt.savefig(\"diff_physics.jpeg\")\n",
    "plt.show()"
   ]
  },
  {
   "cell_type": "code",
   "execution_count": null,
   "id": "135e2964",
   "metadata": {},
   "outputs": [],
   "source": []
  }
 ],
 "metadata": {
  "kernelspec": {
   "display_name": "Python 3 (ipykernel)",
   "language": "python",
   "name": "python3"
  },
  "language_info": {
   "codemirror_mode": {
    "name": "ipython",
    "version": 3
   },
   "file_extension": ".py",
   "mimetype": "text/x-python",
   "name": "python",
   "nbconvert_exporter": "python",
   "pygments_lexer": "ipython3",
   "version": "3.8.10"
  }
 },
 "nbformat": 4,
 "nbformat_minor": 5
}
